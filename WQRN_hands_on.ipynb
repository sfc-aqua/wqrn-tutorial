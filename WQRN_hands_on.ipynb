{
  "cells": [
    {
      "cell_type": "markdown",
      "id": "6ba4cd43",
      "metadata": {
        "id": "6ba4cd43"
      },
      "source": [
        "# Hands-on Notebook for WQRN3 Tutorial: Quantum Networks from Scratch\n",
        "\n",
        "\n",
        "This notebook is created by Naphan Benchasattabuse (whit3z), Ryosuke Satoh (cocori), Rodney Van Meter from Keio University.\n",
        "\n",
        "The notebook is licensed under [Creative Commons Attribution license (CC BY 4.0 license)](https://creativecommons.org/licenses/by/4.0/).\n",
        "\n"
      ]
    },
    {
      "cell_type": "markdown",
      "id": "f5849a80",
      "metadata": {},
      "source": [
        "# Getting Set Up"
      ]
    },
    {
      "cell_type": "markdown",
      "id": "194de537",
      "metadata": {
        "id": "194de537"
      },
      "source": [
        "In Jupyter notebook, there are two types of cells, code cell and text cell.\n",
        "\n",
        "Code cells are places where you can write code and execute it (in this case Python). In order to run the code, you need to start a runtime or a kernel. The runtime normally starts automatically at start up. Any piece of code you write will be run by the runtime and all the variables will be stored even if you erase the code so be aware of that! If you want to clear all the variables and start fresh, you can restart the runtime. Each cell can be executed in any order thus if you run cells not in the order that you intend it might have output errors or unintended behaviours.\n",
        "\n",
        "Text cells are used to add comments and documentation to the code cells. It can also be used like a description or a note to guide your ideas through the notebook like this cell you're reading.\n",
        "\n",
        "### Tips on navigating through the notebook\n",
        "\n",
        "- you can use `shift + enter` to run a code cell or to render the text cell and move the focus on to the next cell\n",
        "- any output of the last line inside a code cell will displayed without the need for `print()` command.\n",
        "\n",
        "### Tips on basic troubleshooting\n",
        "\n",
        "- if you try to run a code cell and it outputs an error. Check if you are trying to access a variable that should be previously declared in prior cells or not. If so, check if the prior cells are already executed."
      ]
    },
    {
      "cell_type": "markdown",
      "id": "QavL_xT7F3-D",
      "metadata": {
        "id": "QavL_xT7F3-D"
      },
      "source": [
        "### Let's try executing the first code cell below.\n",
        "\n",
        "You can run a code cell by either clicking the \"play\" icon by hovering your mouse over the `[ ]` in front of the cell. After it is executed it, a number will be shown inside the brackets which denotes how many code cells have been executed so far. So if this you're starting this from a newly created kernel, it should show `[1]`.\n",
        "\n",
        "The output of cell below should be `5`."
      ]
    },
    {
      "cell_type": "code",
      "execution_count": null,
      "id": "AR_MafEiEXgN",
      "metadata": {
        "id": "AR_MafEiEXgN"
      },
      "outputs": [],
      "source": [
        "## try adding numbers\n",
        "2 + 3"
      ]
    },
    {
      "cell_type": "markdown",
      "id": "Pfc4UlatFrVw",
      "metadata": {
        "id": "Pfc4UlatFrVw"
      },
      "source": [
        "### Run the cell below to install all required libraries for today's tutorial\n",
        "\n",
        "We are using [Qiskit]() to simulate quantum computing and visualize output statistics."
      ]
    },
    {
      "cell_type": "code",
      "execution_count": null,
      "id": "Y-kVnOj-GPfv",
      "metadata": {
        "id": "Y-kVnOj-GPfv"
      },
      "outputs": [],
      "source": [
        "!pip install qiskit\n",
        "!pip install pylatexenc"
      ]
    },
    {
      "cell_type": "markdown",
      "id": "qupaxdIoG0sf",
      "metadata": {
        "id": "qupaxdIoG0sf"
      },
      "source": [
        "Template code and some helper functions"
      ]
    },
    {
      "cell_type": "code",
      "execution_count": null,
      "id": "297887bd",
      "metadata": {
        "id": "297887bd"
      },
      "outputs": [],
      "source": [
        "# Importing required libraries\n",
        "from qiskit import QuantumRegister, ClassicalRegister, QuantumCircuit, Aer, execute \n",
        "from qiskit.visualization import plot_histogram\n",
        "from qiskit import user_config\n",
        "from qiskit.quantum_info import partial_trace\n",
        "import numpy as np\n",
        "import random\n",
        "\n",
        "# Initialize backends simulators to visualize circuits\n",
        "sv_sim = Aer.get_backend('statevector_simulator')\n",
        "qasm_sim = Aer.get_backend('qasm_simulator')\n",
        "\n",
        "# Setting mpl as default drawer\n",
        "%env QISKIT_SETTINGS {}\n",
        "user_config.set_config('circuit_drawer', 'mpl')"
      ]
    },
    {
      "cell_type": "code",
      "execution_count": null,
      "id": "2ff4988a",
      "metadata": {
        "id": "2ff4988a"
      },
      "outputs": [],
      "source": [
        "# Our helper function (modified by whit3z) to make it work on a standalone notebook\n",
        "def show_info(qc, use_statevector_only=False):\n",
        "    \"\"\"this function accepts a quantum circuit object and print out the counts / statevector\"\"\"\n",
        "    qc_remove_measurement = qc.remove_final_measurements(inplace=False)\n",
        "    counts = execute(qc, backend=Aer.get_backend('qasm_simulator'), shots=10000).result().get_counts()\n",
        "    statevector = execute(qc_remove_measurement, backend=Aer.get_backend('statevector_simulator')).result().get_statevector()\n",
        "    print('====== state_vector ======')\n",
        "    display(statevector.draw(output='latex'))\n",
        "    print('')\n",
        "    print('====== true probability distribution =====')\n",
        "    display(plot_histogram({k: np.abs(v) ** 2 for k, v in statevector.to_dict().items()}, title='true probability distribution', color='midnightblue'))\n",
        "    print('====== counts from measurements ======')\n",
        "    display(plot_histogram(counts, title='readout results histogram'))\n",
        "\n",
        "def show_info_partial(qc, qubit_list, use_statevector_only=False):\n",
        "    pass\n",
        "\n",
        "noise_rate = 0.2\n",
        "def noisyCX(self, a, b):\n",
        "    self.cx(a, b)\n",
        "    if random.random() < noise_rate:\n",
        "        self.x(b)\n",
        "\n",
        "QuantumCircuit.noisyCX = noisyCX"
      ]
    },
    {
      "cell_type": "markdown",
      "id": "mJWWaUYQQ3TV",
      "metadata": {
        "id": "mJWWaUYQQ3TV"
      },
      "source": [
        "creating custom LaTeX command\n",
        "\n",
        "$$\\newcommand{\\ket}[1]{\\left|{#1}\\right\\rangle}$$\n",
        "$$\\newcommand{\\bra}[1]{\\left\\langle{#1}\\right|}$$\n"
      ]
    },
    {
      "cell_type": "markdown",
      "id": "1cfecd7b",
      "metadata": {},
      "source": [
        "# Basic of quantum gates (unitary operations)"
      ]
    },
    {
      "cell_type": "markdown",
      "id": "8Y6D8ljwHcz2",
      "metadata": {
        "id": "8Y6D8ljwHcz2"
      },
      "source": [
        "---\n",
        "\n",
        "In quantum computing, the basic operations aren't just the bit-wise operations (e.g., and, or, not, xor, etc) like in the case of classical low-level bit string manipulation. \n",
        "\n",
        "Since the quantum states are defined as a unit vector in the Hilbert space, like in linear algebra, operations acting on a vector can be defined as a matrix (linear operator). Since we also want the new state vector to be a valid state vector after the operation, the operator (or the matrix) must be unitary to preserve this constraints.\n",
        "\n"
      ]
    },
    {
      "cell_type": "markdown",
      "id": "sz3emDuRGDME",
      "metadata": {
        "id": "sz3emDuRGDME"
      },
      "source": [
        "## Defining circuits\n",
        "\n",
        "In the circuit model of quantum computing, we cannot define a state without first defining a quantum circuit.\n",
        "\n",
        "in Qiskit, we can define a quantum circuit like in example cell below.\n",
        "\n",
        "There are two main ways to define a quantum circuit. \n",
        "\n",
        "1. Using shorthand notation `QuantumCircuit(<#qubit>, <#classical_bit>)` then you refer to the qubit in the circuit using index.\n",
        "2. First defining registers and initialize the circuit with them.\n",
        "\n",
        "The second approach with register naming will be useful once we deal with multiple qubits and separating them by their responsibility. We will start using this when we get to Teleportation to see the context clearer."
      ]
    },
    {
      "cell_type": "code",
      "execution_count": null,
      "id": "SMoRqMKFH6EQ",
      "metadata": {
        "id": "SMoRqMKFH6EQ"
      },
      "outputs": [],
      "source": [
        "# Creating a simple 1 qubit circuit\n",
        "\n",
        "# shorthand version\n",
        "shorthand_circuit = QuantumCircuit(1, 1) # 1 qubit, 1 classical bit for readout\n",
        "\n",
        "# by composing from registers\n",
        "q_reg = QuantumRegister(1, 'qreg')\n",
        "c_reg = ClassicalRegister(1, 'creg')\n",
        "qc = QuantumCircuit(q_reg, c_reg)"
      ]
    },
    {
      "cell_type": "markdown",
      "id": "mj-eEcM5HBML",
      "metadata": {
        "id": "mj-eEcM5HBML"
      },
      "source": [
        "### Exercise: Try defining you own circuits\n",
        "\n",
        "Try creating new quantum circuits with above approaches. Try having two or more quantum registers inside a circuit."
      ]
    },
    {
      "cell_type": "code",
      "execution_count": null,
      "id": "OEkm0q0XOXCK",
      "metadata": {
        "id": "OEkm0q0XOXCK"
      },
      "outputs": [],
      "source": [
        "\"\"\"Exercise: Try creating circuits here\"\"\"\n",
        "q_reg2 = QuantumRegister(2, 'qreg')\n",
        "c_reg2 = QuantumRegister(2, 'creg')\n",
        "qc2 = QuantumCircuit(q_reg2, c_reg2)\n"
      ]
    },
    {
      "cell_type": "markdown",
      "id": "BGvT_H8gv38L",
      "metadata": {
        "id": "BGvT_H8gv38L"
      },
      "source": [
        "## Applying quantum gates (operations)\n",
        "\n",
        "Let's see a few basic single qubit gates.\n",
        "\n",
        "Identity gate (do nothing)\n",
        "\n",
        "$I=\\left[\\begin{array}{ll}1 & 0 \\\\ 0 & 1\\end{array}\\right]$\n",
        "\n",
        "The three Pauli matrices (the 3 Pauli gates)\n",
        "\n",
        "$\n",
        "X=\\sigma_{x}=\\left[\\begin{array}{ll}\n",
        "0 & 1 \\\\\n",
        "1 & 0\n",
        "\\end{array}\\right], \\\\\n",
        "Y=\\sigma_{y}=\\left[\\begin{array}{cc}\n",
        "0 & -i \\\\\n",
        "i & 0\n",
        "\\end{array}\\right], \\\\\n",
        "Z=\\sigma_{z}=\\left[\\begin{array}{cc}\n",
        "1 & 0 \\\\\n",
        "0 & -1\n",
        "\\end{array}\\right] .\n",
        "$\n",
        "\n",
        "The Pauli X is the equivalent of classical NOT gate.\n",
        "\n",
        "The Hadamard gate (H) is commonly used to create superposition\n",
        "\n",
        "$H=\\frac{1}{\\sqrt{2}}\\left[\\begin{array}{cc}1 & 1 \\\\ 1 & -1\\end{array}\\right]$\n",
        "\n",
        "To create an equal superposition between $\\ket{0}$ and $\\ket{1}$ via\n",
        "$ H \\ket{0}$ by calling `qc.h(<qubit_index>)`"
      ]
    },
    {
      "cell_type": "code",
      "execution_count": null,
      "id": "gaL1jiKEGkX0",
      "metadata": {
        "id": "gaL1jiKEGkX0"
      },
      "outputs": [],
      "source": [
        "# creating a uniform superposition\n",
        "\n",
        "qc = QuantumCircuit(1, 1)\n",
        "qc.h(0)"
      ]
    },
    {
      "cell_type": "markdown",
      "id": "_7AjZ7L2RZre",
      "metadata": {
        "id": "_7AjZ7L2RZre"
      },
      "source": [
        "The other gates mentioned above can be called in a similar fashion\n",
        "\n",
        "`QuantumCircuit.x()` `QuantumCircuit.y()` `QuantumCircuit.z()`\n",
        "\n",
        "There are also some useful gates to define non-uniform superposition such as [RY gate](https://qiskit.org/documentation/stubs/qiskit.circuit.library.RYGate.html) which is a Pauli-Y operator with adjustable angle\n",
        "\n",
        "$RY(\\theta)=\\exp \\left(-i \\frac{\\theta}{2} Y\\right)=\\left(\\begin{array}{cc}\\cos \\frac{\\theta}{2} & -\\sin \\frac{\\theta}{2} \\\\ \\sin \\frac{\\theta}{2} & \\cos \\frac{\\theta}{2}\\end{array}\\right)$\n",
        "\n",
        "There are also [Rx](https://qiskit.org/documentation/stubs/qiskit.circuit.library.RXGate.html) and [Rz](https://qiskit.org/documentation/stubs/qiskit.circuit.library.RZGate.html) as well. \n",
        "\n",
        "\n",
        "Note: For other gates defined in Qiskit you can check them out [here](https://qiskit.org/documentation/apidoc/circuit_library.html)."
      ]
    },
    {
      "cell_type": "markdown",
      "id": "ZD5H0gX8EuwM",
      "metadata": {
        "id": "ZD5H0gX8EuwM"
      },
      "source": [
        "## Drawing the Circuits\n",
        "\n",
        "To draw a circuit, we can use command `.draw()`."
      ]
    },
    {
      "cell_type": "code",
      "execution_count": null,
      "id": "vXitmqX7v3hW",
      "metadata": {
        "id": "vXitmqX7v3hW"
      },
      "outputs": [],
      "source": [
        "# initialize \n",
        "qc = QuantumCircuit(1, 1)\n",
        "qc.h(0)\n",
        "\n",
        "# draw\n",
        "qc.draw()"
      ]
    },
    {
      "cell_type": "markdown",
      "id": "6E7ztMl1S1sC",
      "metadata": {
        "id": "6E7ztMl1S1sC"
      },
      "source": [
        "### Exercise: create and draw circuit\n",
        "\n",
        "Try to create a circuit with 2 qubits. Applying X then Z on first qubit and applying H on second qubit."
      ]
    },
    {
      "cell_type": "code",
      "execution_count": null,
      "id": "8Q-2mjCvxk_k",
      "metadata": {
        "id": "8Q-2mjCvxk_k"
      },
      "outputs": [],
      "source": [
        "\"\"\" Exercise: Fill in your code here \"\"\"\n"
      ]
    },
    {
      "cell_type": "markdown",
      "id": "4LIgjkwyIB96",
      "metadata": {
        "id": "4LIgjkwyIB96"
      },
      "source": [
        "## Getting information out of circuits by measuring qubits\n",
        "\n",
        "In order to get useful information out of a quantum system or quantum states. We must perform a measurement on the states to extract information. It is worth noting that the information we can extract is **classical**.\n",
        "\n",
        "measurement can be done in Qiskit by calling `QuantumCircuit.measure(<qubit>, <classical_bit>)`. So far we have define our circuits to have classical bits but never used it, now we get to see why we need classical bits in our circuits."
      ]
    },
    {
      "cell_type": "code",
      "execution_count": null,
      "id": "b9DEk4vxUHhn",
      "metadata": {
        "id": "b9DEk4vxUHhn"
      },
      "outputs": [],
      "source": [
        "# initialize \n",
        "qc = QuantumCircuit(1, 1)\n",
        "qc.h(0)\n",
        "\n",
        "# adding measurement part\n",
        "qc.measure(0, 0)\n",
        "qc.draw()"
      ]
    },
    {
      "cell_type": "markdown",
      "id": "zwg82NPzUSbj",
      "metadata": {
        "id": "zwg82NPzUSbj"
      },
      "source": [
        "We provide a helper function which when you pass a circuit with measurement attached at the end, it will output the readout distribution (this helper function will run the circuit with 10,000 shots) and also state vector output right before the final measurement.\n",
        "\n",
        "We can call it by\n",
        "`show_info(qc)`"
      ]
    },
    {
      "cell_type": "code",
      "execution_count": null,
      "id": "Avil9vXiU1ju",
      "metadata": {
        "id": "Avil9vXiU1ju"
      },
      "outputs": [],
      "source": [
        "# show_info(qc)\n",
        "\n",
        "qc = QuantumCircuit(2, 2)\n",
        "qc.h(0)\n",
        "qc.cx(0, 1)\n",
        "qc.measure([0, 1], [0, 1])\n",
        "show_info(qc)\n",
        "qc.draw()"
      ]
    },
    {
      "cell_type": "markdown",
      "id": "N0f-dM-ku5y6",
      "metadata": {
        "id": "N0f-dM-ku5y6"
      },
      "source": [
        "### \"Endianness\" in kets and diagrams\n",
        "\n",
        "A circuit with multiple qubits can be drawn like the image below:\n",
        "\n",
        "![image.png](data:image/png;base64,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)\n",
        "\n",
        "In this case, if we write down the qubits left to right following the top to bottom ordering, the state vector would be written as $\\ket{q_0, q_1, q_2, q_3}$ (\"Big Endian notation\").\n",
        "\n",
        "But if we follow the computer science way of writing binary strings or binary number by putting higher order bit (most significant bit MSB) on the left, the \"Little Endian\" notation, we would write our state as $\\ket{q_3, q_2, q_1, q_0}$.\n",
        "\n",
        "Qiskit, by default, draws $q_0$ at the top, and writes it last in the register.\n",
        "\n",
        "Learn more about the endians on the [wikipedia page](https://en.wikipedia.org/wiki/Endianness)\n",
        "\n",
        "Learn more about the notation in [Qiskit textbook](https://qiskit.org/textbook/ch-states/representing-qubit-states.html)"
      ]
    },
    {
      "cell_type": "markdown",
      "id": "3ae1ce01",
      "metadata": {},
      "source": [
        "# Entanglement and the Bell States"
      ]
    },
    {
      "cell_type": "markdown",
      "id": "c0c12b55",
      "metadata": {
        "id": "c0c12b55"
      },
      "source": [
        "---\n",
        "\n",
        "Recall from our lesson that the maximally entangled two-qubit states or Bell pair have four different forms where each of them has S value (CHSH inequality) equals to $2\\sqrt{2}$.\n",
        "\n",
        "$\\begin{aligned}\n",
        "\\left|\\Phi^{+}\\right\\rangle=\\frac{1}{\\sqrt{2}}(|00\\rangle+|11\\rangle)\n",
        "\\\\\n",
        "\\left|\\Phi^{-}\\right\\rangle=\\frac{1}{\\sqrt{2}}(|00\\rangle-|11\\rangle)\n",
        "\\\\\n",
        "\\left|\\Psi^{+}\\right\\rangle=\\frac{1}{\\sqrt{2}}(|01\\rangle+|10\\rangle)\n",
        "\\\\\n",
        "\\left|\\Psi^{-}\\right\\rangle=\\frac{1}{\\sqrt{2}}(|01\\rangle-|10\\rangle)\n",
        "\\end{aligned}$"
      ]
    },
    {
      "cell_type": "markdown",
      "id": "2wEmxDi9GodT",
      "metadata": {
        "id": "2wEmxDi9GodT"
      },
      "source": [
        "## Creating Bell States\n",
        "\n",
        "The most common form of Bell pair is the $\\Phi^+$ state. We can create it by the code below:"
      ]
    },
    {
      "cell_type": "code",
      "execution_count": null,
      "id": "30JvxGw3xwt6",
      "metadata": {
        "id": "30JvxGw3xwt6"
      },
      "outputs": [],
      "source": [
        "# Creating phi+ circuit\n",
        "\n",
        "qc = QuantumCircuit(2, 2)\n",
        "qc.h(0)\n",
        "qc.cx(0, 1)\n",
        "qc.measure([0,1], [0, 1])\n",
        "\n",
        "# see the circuit and its output\n",
        "display(qc.draw())\n",
        "show_info(qc)"
      ]
    },
    {
      "cell_type": "markdown",
      "id": "bxiO6gWXyCLx",
      "metadata": {
        "id": "bxiO6gWXyCLx"
      },
      "source": [
        "### Two qubit gate (CNOT Gate)\n",
        "\n",
        "The circuit above uses a new gate which we haven't talked about, the CNOT gate.\n",
        "\n",
        "The CNOT or CX gate can be defined in the matrix form as\n",
        "\n",
        "$\\mathrm{CNOT}=\\left[\\begin{array}{llll}1 & 0 & 0 & 0 \\\\ 0 & 0 & 0 & 1 \\\\ 0 & 0 & 1 & 0 \\\\ 0 & 1 & 0 & 0\\end{array}\\right]$\n",
        "\n",
        "if we use the Qiskit notation of qubit ordering.\n",
        "\n",
        "In the usual textbook (Big Endian) you would see it described as\n",
        "\n",
        "$\\mathrm{CNOT}=\\left[\\begin{array}{llll}1 & 0 & 0 & 0 \\\\ 0 & 1 & 0 & 0 \\\\ 0 & 0 & 0 & 1 \\\\ 0 & 0 & 1 & 0\\end{array}\\right]$\n",
        "\n",
        "Without two qubit gates, we cannot create entanglement which is fundamental to the weirdness of quantum mechanics and core to the quantum advantage over classical computing."
      ]
    },
    {
      "cell_type": "markdown",
      "id": "AEq3A4PUy7Ff",
      "metadata": {
        "id": "AEq3A4PUy7Ff"
      },
      "source": [
        "### Composing circuits\n",
        "\n",
        "So far, every time we introduce a new circuit we create a new variable and append gates to our circuits using the basis gates provided by Qiskit. \n",
        "\n",
        "This is not a good thing when we want to build smaller components and compose them into a bigger/longer circuits.\n",
        "\n",
        "We can define circuits for use later and compose them using the code below.\n",
        "Let's see an example circuit that create the $\\Phi_+$ state."
      ]
    },
    {
      "cell_type": "code",
      "execution_count": null,
      "id": "6fd2b3d2",
      "metadata": {
        "id": "6fd2b3d2"
      },
      "outputs": [],
      "source": [
        "# Circuit for creating Phi+\n",
        "\n",
        "phi_plus_circ = QuantumCircuit(2)\n",
        "phi_plus_circ.h(0)\n",
        "phi_plus_circ.cx(0, 1)\n",
        "\n",
        "# Circuit to append 2 qubit measurement \n",
        "\n",
        "two_qubit_measurment_circ = QuantumCircuit(2, 2)\n",
        "# two_qubit_measurment_circ.barrier()\n",
        "two_qubit_measurment_circ.measure([0, 1], [0, 1])\n",
        "\n",
        "# See the two circuits separately\n",
        "print('phi plus circ')\n",
        "display(phi_plus_circ.draw())\n",
        "print('two qubit measurement circ')\n",
        "display(two_qubit_measurment_circ.draw())\n",
        "\n",
        "\n",
        "# To compose the two components into our circuit\n",
        "## First define a new circuit \n",
        "\n",
        "qc = QuantumCircuit(2, 2)\n",
        "qc = qc.compose(phi_plus_circ)\n",
        "qc = qc.compose(two_qubit_measurment_circ)\n",
        "print('the composed circuit')\n",
        "qc.draw()"
      ]
    },
    {
      "cell_type": "markdown",
      "id": "5d14d0f7",
      "metadata": {
        "id": "5d14d0f7"
      },
      "source": [
        "### Exercise: Create $\\Phi^-$ State"
      ]
    },
    {
      "cell_type": "code",
      "execution_count": null,
      "id": "5dab204a",
      "metadata": {
        "id": "5dab204a"
      },
      "outputs": [],
      "source": [
        "# Creating Phi-\n",
        "\n",
        "phi_minus_circ = QuantumCircuit(2)\n",
        "\n",
        "\"\"\"Complete the code\"\"\"\n",
        "\n",
        "\n",
        "\"\"\"End\"\"\"\n",
        "\n",
        "# to see the measurement result and draw the circuit\n",
        "qc = QuantumCircuit(2, 2)\n",
        "qc = qc.compose(phi_minus_circ).compose(two_qubit_measurment_circ)\n",
        "qc.draw()\n",
        "show_info(qc)"
      ]
    },
    {
      "cell_type": "markdown",
      "id": "0a44c0c2",
      "metadata": {
        "id": "0a44c0c2"
      },
      "source": [
        "### Exercise: Create $\\Psi^+$ State"
      ]
    },
    {
      "cell_type": "code",
      "execution_count": null,
      "id": "77be0bae",
      "metadata": {
        "id": "77be0bae"
      },
      "outputs": [],
      "source": [
        "# Creating Psi+\n",
        "\n",
        "psi_plus_circ = QuantumCircuit(2)\n",
        "\n",
        "\"\"\"Complete the code\"\"\"\n",
        "\n",
        "\n",
        "\"\"\"End\"\"\"\n",
        "\n",
        "# to see the measurement result and draw the circuit\n",
        "qc = QuantumCircuit(2, 2)\n",
        "qc = qc.compose(psi_plus_circ).compose(two_qubit_measurment_circ)\n",
        "qc.draw()\n",
        "show_info(qc)"
      ]
    },
    {
      "cell_type": "markdown",
      "id": "12f5e32f",
      "metadata": {
        "id": "12f5e32f"
      },
      "source": [
        "### Exercise: Create $\\Psi^-$ State"
      ]
    },
    {
      "cell_type": "code",
      "execution_count": null,
      "id": "df389125",
      "metadata": {
        "id": "df389125"
      },
      "outputs": [],
      "source": [
        "# Creating Psi-\n",
        "\n",
        "psi_minus_circ = QuantumCircuit(2)\n",
        "\n",
        "\"\"\"Complete the code\"\"\"\n",
        "\n",
        "\n",
        "\n",
        "\"\"\"End\"\"\"\n",
        "\n",
        "# to see the measurement result and draw the circuit\n",
        "qc = QuantumCircuit(2, 2)\n",
        "qc = qc.compose(psi_minus_circ).compose(two_qubit_measurment_circ)\n",
        "qc.draw()\n",
        "show_info(qc)"
      ]
    },
    {
      "cell_type": "markdown",
      "id": "0cd30859",
      "metadata": {
        "id": "0cd30859"
      },
      "source": [
        "## Bell state analyzer\n",
        "---\n",
        "\n",
        "Suppose we have a Bell pair but we don't know which of the 4 possible states they are in, we can recognize them by performing a certain kind of measurement call the **Bell Measurement** (which we have learned from lesson 13 step 2 of the video). Remember that in Qiskit, we can only perform measurement in Z basis (the computational basis), our job is to implement the unitary to change the Bell basis into Z-basis \n",
        "\n",
        "We want to interpret each form as the Bell state as the table below.\n",
        "\n",
        "| Bell state                          |   q0,q1 (eigenvalues) | output from the circuit |\n",
        "|---------                            |--------------         | -------------           |\n",
        "| $\\left\\vert\\Phi^{+}\\right\\rangle$   | +1,+1                 | 00                      |\n",
        "| $\\left\\vert\\Phi^{-}\\right\\rangle$   | +1,-1                 | 01                      |\n",
        "| $\\left\\vert\\Psi^{+}\\right\\rangle$   | -1,+1                 | 10                      |\n",
        "| $\\left\\vert\\Psi^{-}\\right\\rangle$   | -1,-1                 | 11                      |\n",
        "\n",
        "\n",
        "**The table above is just one valid mapping, any 1-1 mapping from the 4 Bell States to the 4 computational bases works the same.**\n",
        "\n",
        "### Additional Note\n",
        "\n",
        "if you're familiar with linear algebra, you may recall that the unitary we need to implement is the same as implementing the change of basis matrix.\n",
        "Learn more about change of basis from this great [youtube video.](https://youtu.be/P2LTAUO1TdA)"
      ]
    },
    {
      "cell_type": "markdown",
      "id": "9aab8a31",
      "metadata": {
        "id": "9aab8a31"
      },
      "source": [
        "### Exercise: create BSA circuit\n",
        "\n",
        "Note: Don't add the measurement to this BSA component, we'll add the measurement part later in another component"
      ]
    },
    {
      "cell_type": "code",
      "execution_count": null,
      "id": "4a12e395",
      "metadata": {
        "id": "4a12e395"
      },
      "outputs": [],
      "source": [
        "bell_state_analyser_circuit = QuantumCircuit(2)\n",
        "\n",
        "\"\"\"Complete the code\"\"\"\n",
        "\n",
        "\n",
        "\n",
        "\"\"\"End\"\"\"\n",
        "\n",
        "bell_state_analyser_circuit.draw()"
      ]
    },
    {
      "cell_type": "markdown",
      "id": "8221d602",
      "metadata": {
        "id": "8221d602"
      },
      "source": [
        "### Testing BSA circuit we just made\n",
        "\n",
        "Let's test if it works as intended, it should output the same measurement result as the table above.\n",
        "**No need to modify the 4 code blocks below.**"
      ]
    },
    {
      "cell_type": "code",
      "execution_count": null,
      "id": "f69d134d",
      "metadata": {
        "id": "f69d134d"
      },
      "outputs": [],
      "source": [
        "## Test with Phi+\n",
        "\n",
        "qc = QuantumCircuit(2, 2)\n",
        "qc = qc.compose(phi_plus_circ).compose(bell_state_analyser_circuit).compose(two_qubit_measurment_circ)\n",
        "display(qc.draw())\n",
        "show_info(qc)"
      ]
    },
    {
      "cell_type": "code",
      "execution_count": null,
      "id": "139b8b28",
      "metadata": {
        "id": "139b8b28"
      },
      "outputs": [],
      "source": [
        "## Test with Phi-\n",
        "\n",
        "qc = QuantumCircuit(2, 2)\n",
        "qc = qc.compose(phi_minus_circ).compose(bell_state_analyser_circuit).compose(two_qubit_measurment_circ)\n",
        "display(qc.draw())\n",
        "show_info(qc)"
      ]
    },
    {
      "cell_type": "code",
      "execution_count": null,
      "id": "94133674",
      "metadata": {
        "id": "94133674"
      },
      "outputs": [],
      "source": [
        "## Test with Psi+\n",
        "\n",
        "qc = QuantumCircuit(2, 2)\n",
        "qc = qc.compose(psi_plus_circ).compose(bell_state_analyser_circuit).compose(two_qubit_measurment_circ)\n",
        "display(qc.draw())\n",
        "show_info(qc)"
      ]
    },
    {
      "cell_type": "code",
      "execution_count": null,
      "id": "5bc1a7f0",
      "metadata": {
        "id": "5bc1a7f0"
      },
      "outputs": [],
      "source": [
        "## Test with Psi-\n",
        "\n",
        "qc = QuantumCircuit(2, 2)\n",
        "qc = qc.compose(psi_minus_circ).compose(bell_state_analyser_circuit).compose(two_qubit_measurment_circ)\n",
        "display(qc.draw())\n",
        "show_info(qc)"
      ]
    },
    {
      "cell_type": "markdown",
      "id": "5fa07c98",
      "metadata": {
        "id": "5fa07c98"
      },
      "source": [
        "**Does the output of the 4 circuits for distinguishing each variation of Bell State correct?**"
      ]
    },
    {
      "cell_type": "markdown",
      "id": "507086db",
      "metadata": {},
      "source": [
        "# Teleportation"
      ]
    },
    {
      "cell_type": "markdown",
      "id": "Vybag7MKEMIV",
      "metadata": {
        "id": "Vybag7MKEMIV"
      },
      "source": [
        "---\n",
        "\n",
        "You may have heard about teleportation, moving object from one place to another in space and it was done instantaneously! Unfortunately or maybe fortunately depending on who you are, quantum teleportation isn't instantaneous and it doesn't move object but moving quantum data. And to say move is not technically right, quantum teleportation **destroys** the quantum state at one place and **recreate** that same state in a different place, moving data from one qubit to another qubit by consuming one Bell pair. This does **NOT** violate the faster-than-light communication which we will see why in a bit.\n",
        "\n",
        "Let say we have two people Alice and Bob. Alice and Bob already share a Bell pair created sometime earlier. Now Alice have a qubit that she wants to send to Bob (sending the qubit state to Bob). She can do so by applying Bell measurement, the Bell state analyzer we used earlier, to her data qubit and her half of the Bell pair she has with Bob. After she has done the measurement, she needs to send the measurement results to Bob via some means. Once Bob receives the message from Alice saying that she already performed her part of the task, Bob can use the information and apply an operation (Pauli correction or correction frame) to his half of the destroyed Bell pair and the state which Alice held earlier will appear in Bob's qubit. This concludes the teleportaion procedure.\n",
        "\n",
        "Let's analysize what was going on in each step above.\n",
        "\n",
        "1. Alice and Bob must share a Bell pair. (in our example we will say that they share a $\\Phi_+$ state) \n",
        "1. Alice prepares a data qubit. $\\ket{\\Psi} = \\alpha \\ket{0} + \\beta \\ket{1}$\n",
        "1. Alice performs a Bell measurement on her half of the Bell pair and the data qubit. \n",
        "\n",
        "<!-- Let's pause here for a bit and write the states out and for simplicity of writing we will drop the $1 / \\sqrt{2}$ in factor of the Bell state\n",
        "\n",
        "$\\begin{aligned}\n",
        "\\ket{0_A 0_B} + \\ket{1_A 1_B}\n",
        "\\\\\n",
        "\\ket{\\Psi} \\otimes \\left(\\ket{0_A 0_B} + \\ket{1_A 1_B}\\right)\n",
        "\\\\\n",
        "( \\alpha \\ket{0_{A'}} + \\beta \\ket{1_{A'}} ) \\otimes \\left(\\ket{0_A 0_B} + \\ket{1_A 1_B}\\right)\n",
        "\\\\\n",
        "( \\alpha \\ket{0_{A'}} + \\beta \\ket{1_{A'}} ) \\otimes \\left(\\ket{0_A 0_B} + \\ket{1_A 1_B}\\right)\n",
        "\\\\\n",
        "\\alpha \\ket{0_{A'}} \\otimes \\left(\\ket{0_A 0_B} + \\ket{1_A 1_B}\\right) + \\beta \\ket{1_{A'}}\\otimes \\left(\\ket{0_A 0_B} + \\ket{1_A 1_B}\\right)\n",
        "\\\\\n",
        "\\alpha \\ket{0_{A'} 0_A 0_B} + \\alpha \\ket{0_{A'} 1_A 1_B} + \\beta \\ket{1_{A'} 0_A 0_B} + \\beta \\ket{1_{A'} 1_A 1_B}\n",
        "\\end{aligned}$ -->\n",
        "\n",
        "Let's pause here for a bit and write the total initial state out\n",
        "\n",
        "$\\begin{aligned}|\\psi\\rangle_{A_{1}}\\left|\\Phi^{+}\\right\\rangle_{A_{2} B} &=(\\alpha|0\\rangle+\\beta|1\\rangle)_{A_{1}} \\frac{1}{\\sqrt{2}}(|00\\rangle+|11\\rangle)_{A_{2} B} \\\\ &=\\frac{1}{\\sqrt{2}}(\\alpha|000\\rangle+\\alpha|011\\rangle+\\beta|100\\rangle+\\beta|111\\rangle)_{A_{1} A_{2} B} \\end{aligned}$\n",
        "\n",
        "We know that we can write the 4 Bell states in the computational basis as\n",
        "\n",
        "$\\left|\\Phi^{+}\\right\\rangle=\\frac{1}{\\sqrt{2}}(|00\\rangle+|11\\rangle) \\quad\\left|\\Phi^{-}\\right\\rangle=\\frac{1}{\\sqrt{2}}(|00\\rangle-|11\\rangle)$\n",
        "$\\left|\\Psi^{+}\\right\\rangle=\\frac{1}{\\sqrt{2}}(|01\\rangle+|10\\rangle) \\quad\\left|\\Psi^{-}\\right\\rangle=\\frac{1}{\\sqrt{2}}(|01\\rangle-|10\\rangle)$\n",
        "\n",
        "Then if we instead write the computational basis states in Bell basis\n",
        "\n",
        "$\\begin{array}{ll}|00\\rangle=\\frac{1}{\\sqrt{2}}\\left(\\left|\\Phi^{+}\\right\\rangle+\\left|\\Phi^{-}\\right\\rangle\\right) & |01\\rangle=\\frac{1}{\\sqrt{2}}\\left(\\left|\\Psi^{+}\\right\\rangle+\\left|\\Psi^{-}\\right\\rangle\\right) \\\\ |10\\rangle=\\frac{1}{\\sqrt{2}}\\left(\\left|\\Psi^{+}\\right\\rangle-\\left|\\Psi^{-}\\right\\rangle\\right) & |11\\rangle=\\frac{1}{\\sqrt{2}}\\left(\\left|\\Phi^{+}\\right\\rangle-\\left|\\Phi^{-}\\right\\rangle\\right)\\end{array}$\n",
        "\n",
        "Using above trick, we can rewrite the states as\n",
        "\n",
        "$\\begin{aligned}|\\psi\\rangle_{A_{1}}\\left|\\Phi^{+}\\right\\rangle_{A_{2} B}=&(\\alpha|0\\rangle+\\beta|1\\rangle)_{A_{1}} \\frac{1}{\\sqrt{2}}(|00\\rangle+|11\\rangle)_{A_{2} B} \\\\=& \\frac{1}{\\sqrt{2}}(\\alpha|000\\rangle+\\alpha|011\\rangle+\\beta|100\\rangle+\\beta|111\\rangle)_{A_{1} A_{2} B} \\\\=& \\frac{1}{\\sqrt{2}}\\left(\\alpha\\left(\\left|\\Phi^{+}\\right\\rangle+\\left|\\Phi^{-}\\right\\rangle\\right)|0\\rangle\\right.\\\\ &+\\alpha\\left(\\left|\\Psi^{+}\\right\\rangle+\\left|\\Psi^{-}\\right\\rangle\\right)|1\\rangle \\\\ &+\\beta\\left(\\left|\\Psi^{+}\\right\\rangle-\\left|\\Psi^{-}\\right\\rangle\\right)|0\\rangle \\\\ &+\\beta\\left(\\left|\\Phi^{+}\\right\\rangle-\\left|\\Phi^{-}\\right\\rangle\\right)|1\\rangle \\end{aligned}$\n",
        "\n",
        "And after a little regrouping and rewriting again, we get\n",
        "\n",
        "$\\begin{aligned}|\\psi\\rangle_{A_{1}}\\left|\\Phi^{+}\\right\\rangle_{A_{2} B} &=\\frac{1}{2}\\left|\\Phi^{+}\\right\\rangle_{A_{1} A_{2}}(\\alpha|0\\rangle+\\beta|1\\rangle)_{B} \\\\ &+\\frac{1}{2}\\left|\\Phi^{-}\\right\\rangle_{A_{1} A_{2}}(\\alpha|0\\rangle-\\beta|1\\rangle)_{B} \\\\ &+\\frac{1}{2}\\left|\\Psi^{+}\\right\\rangle_{A_{1} A_{2}}(\\alpha|1\\rangle+\\beta|0\\rangle)_{B} \\\\ &+\\frac{1}{2}\\left|\\Psi^{-}\\right\\rangle_{A_{1} A_{2}}(\\alpha|1\\rangle-\\beta|0\\rangle)_{B} \\end{aligned}$\n",
        "\n",
        "So we can see here that each outcome of the 4 Bell basis states are equally likely. And depending on what Alice gets, the state at Bob will be off by only either a bit flip, a phase flip, or both.\n",
        "\n",
        "And remember that we haven't really done anything to the states, we were just rewriting and regrouping the terms!"
      ]
    },
    {
      "cell_type": "markdown",
      "id": "_0tiRHGqKcFw",
      "metadata": {
        "id": "_0tiRHGqKcFw"
      },
      "source": [
        "## Is Teleportation instantaneous?\n",
        "\n",
        "Initially, Bob has one qubit and from his view point it's in the state\n",
        "\n",
        "$\\left|\\Phi^{+}\\right\\rangle_{A_{2} B}=\\frac{1}{\\sqrt{2}}(|00\\rangle+|11\\rangle) \\longrightarrow \\rho_{B}=\\frac{1}{2}|0\\rangle\\left\\langle 0\\left|+\\frac{1}{2}\\right| 1\\right\\rangle\\langle 1|$\n",
        "\n",
        "which is a maximally mixed state.\n",
        "\n",
        "Then just before Alice performs the measurement, the state is in \n",
        "\n",
        "$\\frac{1}{2}\\left|\\Phi^{+}\\right\\rangle_{A_{1} A_{2}}(\\alpha|0\\rangle+\\beta|1\\rangle)_{B}+\\frac{1}{2}\\left|\\Phi^{-}\\right\\rangle_{A_{1} A_{2}}(\\alpha|0\\rangle-\\beta|1\\rangle)_{B}$\n",
        "$+\\frac{1}{2}\\left|\\Psi^{+}\\right\\rangle_{A_{1} A_{2}}(\\alpha|1\\rangle+\\beta|0\\rangle)_{B}+\\frac{1}{2}\\left|\\Psi^{-}\\right\\rangle_{A_{1} A_{2}}(\\alpha|1\\rangle-\\beta|0\\rangle)_{B}$\n",
        "\n",
        "But what about Bob's state just right after the measurement?\n",
        "\n",
        "$\\operatorname{Prob}\\left(\\left|\\Phi^{+}\\right\\rangle\\right)=1 / 4, \\quad$ Bob has $\\alpha|0\\rangle+\\beta|1\\rangle$\n",
        "$\\operatorname{Prob}\\left(\\left|\\Phi^{-}\\right\\rangle\\right)=1 / 4, \\quad$ Bob has $\\alpha|0\\rangle-\\beta|1\\rangle$\n",
        "$\\operatorname{Prob}\\left(\\left|\\Psi^{+}\\right\\rangle\\right)=1 / 4, \\quad$ Bob has $\\alpha|1\\rangle+\\beta|0\\rangle$\n",
        "$\\operatorname{Prob}\\left(\\left|\\Psi^{-}\\right\\rangle\\right)=1 / 4, \\quad$ Bob has $\\alpha|1\\rangle-\\beta|0\\rangle$\n",
        "\n",
        "So if we look at Bob's viewpoint again on the state he's holding\n",
        "\n",
        "$\\begin{aligned} \\rho_{B} &=\\frac{1}{4}(\\alpha|0\\rangle+\\beta|1\\rangle)\\left(\\alpha^{*}\\langle 0|+\\beta^{*}\\langle 1|\\right) \\\\ &+\\frac{1}{4}(\\alpha|0\\rangle-\\beta|1\\rangle)\\left(\\alpha^{*}\\langle 0|-\\beta^{*}\\langle 1|\\right) \\\\ &+\\frac{1}{4}(\\alpha|1\\rangle+\\beta|0\\rangle)\\left(\\alpha^{*}\\langle 1|+\\beta^{*}\\langle 0|\\right) \\\\ &+\\frac{1}{4}(\\alpha|1\\rangle-\\beta|0\\rangle)\\left(\\alpha^{*}\\langle 1|-\\beta^{*}\\langle 0|\\right) \\end{aligned}$\n",
        "\n",
        "then \n",
        "\n",
        "$\\begin{aligned} \\rho_{B} &=\\frac{1}{2}\\left(|\\alpha|^{2}+|\\beta|^{2}\\right)|0\\rangle\\langle 0| \\\\ &+\\frac{1}{2}\\left(|\\alpha|^{2}+|\\beta|^{2}\\right)|1\\rangle\\langle 1| \\\\ &=\\frac{1}{2}|0\\rangle\\left\\langle 0\\left|+\\frac{1}{2}\\right| 1\\right\\rangle\\langle 1| \\end{aligned}$\n",
        "\n",
        "Which is still a maximally mixed state!\n",
        "\n",
        "So the teleportation hasn't taken placed yet just after Alice performing the measurement. \n",
        "\n",
        "Even when Alice sends the results, the measurement still hasn't taken place until Bob finally gets the results. At that point then we can say that the teleporation has finally taken place. \n",
        "\n",
        "**So teleportation doesn't violate the faster-than-light communication restriction because the Pauli correction message speed is still limited by the speed of light.**"
      ]
    },
    {
      "cell_type": "markdown",
      "id": "cAmExZDYEKYu",
      "metadata": {
        "id": "cAmExZDYEKYu"
      },
      "source": [
        "Now that we understand the theory behind the teleportation procedure, let's try to simulate it in the circuit form."
      ]
    },
    {
      "cell_type": "markdown",
      "id": "fb43964f",
      "metadata": {
        "id": "fb43964f"
      },
      "source": [
        "### Exercise: Initialize Alice's data qubit\n",
        "\n",
        "Let's try to pick some random state with non-uniform superposition of $\\ket{0}$ and $\\ket{1}$ by using Ry gate.\n",
        "Try and pick $\\theta$ you want and we will use this same state for Alice in our teleportation circuit."
      ]
    },
    {
      "cell_type": "code",
      "execution_count": null,
      "id": "f31cc5f4",
      "metadata": {
        "id": "f31cc5f4"
      },
      "outputs": [],
      "source": [
        "alice_qubit_circ = QuantumCircuit(1, 1)\n",
        "\n",
        "\"\"\"Choose your own theta\"\"\"\n",
        "## Begin\n",
        "# Change 0 to your value of choice!\n",
        "\n",
        "theta = 1\n",
        "\n",
        "## End\n",
        "\n",
        "\n",
        "alice_qubit_circ.ry(theta, 0)\n",
        "alice_qubit_circ.measure(0, 0)\n",
        "\n",
        "display(alice_qubit_circ.draw())\n",
        "show_info(alice_qubit_circ, use_statevector_only=True)"
      ]
    },
    {
      "cell_type": "markdown",
      "id": "8e27b10d",
      "metadata": {
        "id": "8e27b10d"
      },
      "source": [
        "### Exercise: Initialize Alice's data qubit using the $\\theta$ we picked\n",
        "\n",
        "This time we will use register naming approach to create the circuit so we get a clearer picture of whose qubits are we working on."
      ]
    },
    {
      "cell_type": "code",
      "execution_count": null,
      "id": "bb77a6fe",
      "metadata": {
        "id": "bb77a6fe"
      },
      "outputs": [],
      "source": [
        "# Creating Alice register\n",
        "alice = QuantumRegister(2, \"alice\")\n",
        "bob = QuantumRegister(1, \"bob\")\n",
        "creg = ClassicalRegister(2) # So we can see the results\n",
        "qc = QuantumCircuit(alice, bob, creg)\n",
        "\n",
        "\"\"\"Complete the Code below\"\"\"\n",
        "# reminder if you want to apply x on alice's data qubit it can be done via qc.x(alice[0])\n",
        "\n",
        "\n",
        "\"\"\"End\"\"\"\n",
        "\n",
        "qc.draw()"
      ]
    },
    {
      "cell_type": "markdown",
      "id": "ae35c147",
      "metadata": {
        "id": "ae35c147"
      },
      "source": [
        "### Exercise: Create a Bell pair between Alice and Bob"
      ]
    },
    {
      "cell_type": "code",
      "execution_count": null,
      "id": "1ed7e029",
      "metadata": {
        "id": "1ed7e029"
      },
      "outputs": [],
      "source": [
        "\"\"\"Complete the Code below\"\"\"\n",
        "\n",
        "# qc.\n",
        "\n",
        "\n",
        "\"\"\"End\"\"\"\n",
        "\n",
        "qc.draw()"
      ]
    },
    {
      "cell_type": "markdown",
      "id": "983ddacb",
      "metadata": {
        "id": "983ddacb"
      },
      "source": [
        "### Exercise: Perform Bell state measurement on Alice's qubits"
      ]
    },
    {
      "cell_type": "code",
      "execution_count": null,
      "id": "41be3d35",
      "metadata": {
        "id": "41be3d35"
      },
      "outputs": [],
      "source": [
        "\"\"\"Complete the Code below\"\"\"\n",
        "\n",
        "# qc.\n",
        "\n",
        "\n",
        "\"\"\"End\"\"\"\n",
        "\n",
        "qc.draw()"
      ]
    },
    {
      "cell_type": "markdown",
      "id": "b9c55d62",
      "metadata": {
        "id": "b9c55d62"
      },
      "source": [
        "### Exercise: Apply Pauli correction on Bob's qubit\n",
        "\n",
        "So far we've only done measurement at the very end of a circuit. It should be noted that it is possible to perform a measurment in the middle of the circuit and depending on the classical readout make a decision on what to perform next based on that. This is referred to as feed-forward operation. \n",
        "\n",
        "Noted that this feed-forward is not available on most real devices yet.\n",
        "\n",
        "To append a gate based on values inside classical register, it can be done using `qc.gate(qreg[index]).c_if(<creg_bit>, <creg_value>)`. For example if we want to apply X to Alice's data qubit (qubit 0) if data in creg[1] equals 1, we can do so by `qc.x(alice[0]).c_if(creg[1], 1)`"
      ]
    },
    {
      "cell_type": "code",
      "execution_count": null,
      "id": "a6bfe66d",
      "metadata": {
        "id": "a6bfe66d"
      },
      "outputs": [],
      "source": [
        "\"\"\"\n",
        "Take note on which creg you store the BSA results and apply the c_if on the correct creg index.\n",
        "Complete the Code below\n",
        "\"\"\"\n",
        "\n",
        "\n",
        "\"\"\"End\"\"\"\n",
        "\n",
        "qc.draw()"
      ]
    },
    {
      "cell_type": "markdown",
      "id": "cde4389c",
      "metadata": {
        "id": "cde4389c"
      },
      "source": [
        "### Exercise: Verify if our teleportation procedure is correct or not!\n",
        "\n",
        "If everything we've done so far is correct we should see two statevector plots / state equations to be the same\n",
        "and a message confirming the results at the end of the output."
      ]
    },
    {
      "cell_type": "code",
      "execution_count": null,
      "id": "d9387520",
      "metadata": {
        "id": "d9387520"
      },
      "outputs": [],
      "source": [
        "# check equal ignore global phase via statevector method\n",
        "alice_data_qubit_sv = execute(alice_qubit_circ.remove_final_measurements(inplace=False), backend=Aer.get_backend('statevector_simulator')).result().get_statevector()\n",
        "whole_circuit_sv = execute(qc, backend=Aer.get_backend('statevector_simulator')).result().get_statevector()\n",
        "bob_final_qubit_sv = partial_trace(whole_circuit_sv, [0, 1]).to_statevector()\n",
        "# print(f'alice state vector = {alice_data_qubit_sv.draw()}')\n",
        "# print(f'bob state vector = {bob_final_qubit_sv.draw()}')\n",
        "if bob_final_qubit_sv.equiv(alice_data_qubit_sv):\n",
        "    print('Congratulations! You made the teleportation works!')\n",
        "else:\n",
        "    print('You probably made something wrong!')\n",
        "\n",
        "display(plot_histogram({k: np.abs(v) ** 2 for k, v in alice_data_qubit_sv.to_dict().items()}, title='Alice distribution', color='midnightblue'))\n",
        "display(plot_histogram({k: np.abs(v) ** 2 for k, v in bob_final_qubit_sv.to_dict().items()}, title='Bob distribution', color='midnightblue'))"
      ]
    },
    {
      "cell_type": "markdown",
      "id": "67ba9231",
      "metadata": {},
      "source": [
        "# Entanglement Swapping"
      ]
    },
    {
      "cell_type": "markdown",
      "id": "27f6fff7",
      "metadata": {
        "id": "27f6fff7"
      },
      "source": [
        "---\n",
        "\n",
        "Entanglment swapping is the heart of quantum network protocols. It is used to create long distance Bell pairs.\n",
        "\n",
        "A simple but not quite accurate description of it is that if we have two Bell pairs where one person is holding one end of both pairs, they can stitch the Bell pair together creating a longer Bell pair. \n",
        "\n",
        "\n",
        "Let say we have three people, Alice, Bob and Clare.\n",
        "\n",
        "\n",
        "Both Alice and Clare create create a Bell pair each, they send one qubit of their Bell pair to Bob.\n",
        "\n",
        "\n",
        "Bob then performs a Bell state measurement and send the measurement result to Alice or Clare or both so that the two can apply corrections on their qubits if needed. \n",
        "\n",
        "\n",
        "This results is used to select which unitary (x, z) is used on, say Alice's, initial qubit. Doing so, entangling Alice's qubit with Clare's initial one.\n",
        "\n",
        "It looks like what Bob did was to stitch the two pairs together, but what actually happens is that Bob performs teleportation on Alice's (or Clare's qubit) to Clare's (Alice's). \n",
        "\n",
        "\n",
        "### Noted\n",
        "You should write all the operations, Bell state creation, Bell state analyzer from scratch here to help improve and test your understanding from above exercises."
      ]
    },
    {
      "cell_type": "markdown",
      "id": "6a4e3e62",
      "metadata": {
        "id": "6a4e3e62"
      },
      "source": [
        "### Exercise Complete the code block below"
      ]
    },
    {
      "cell_type": "code",
      "execution_count": null,
      "id": "12159e75",
      "metadata": {
        "id": "12159e75"
      },
      "outputs": [],
      "source": [
        "#Create the initial state\n",
        "alice = QuantumRegister(1, \"alice\")\n",
        "bob = QuantumRegister(2, \"bob\")\n",
        "clare = QuantumRegister(1, \"clare\")\n",
        "creg = ClassicalRegister(2)  # Classical Register to store Bob's measurement results\n",
        "qc = QuantumCircuit(alice, bob, clare, creg)\n",
        "\n",
        "\n",
        "# Make entanglement between Alice-Bob\n",
        "\"\"\"Write your code here\"\"\"\n",
        "qc.h(alice[0])\n",
        "qc.cnot(alice[0],bob[0])\n",
        "\n",
        "\n",
        "# Make entanglement between Bob-Clare\n",
        "\"\"\"Write your code here\"\"\"\n",
        "qc.h(bob[1])\n",
        "qc.cnot(bob[1],clare[0])\n",
        "\n",
        "\n",
        "# Bob applies BSA on his qubits\n",
        "\"\"\"Write your code here\"\"\"\n",
        "qc.cnot(bob[0],bob[1])\n",
        "qc.h(bob[0])\n",
        "\n",
        "# Bob measure his qubits\n",
        "\"\"\"Write your code here\"\"\"\n",
        "qc.measure(bob[0],creg[0])\n",
        "qc.measure(bob[1],creg[1])\n",
        "\n",
        "\n",
        "# Bob sends out his results. Use c_if() to simulate the idea of getting the results and apply the correction for it\n",
        "qc.x(clare[0]).c_if(creg[1],1)\n",
        "qc.z(clare[0]).c_if(creg[0],1)\n",
        "\n"
      ]
    },
    {
      "cell_type": "markdown",
      "id": "PkKjW-HMSC6G",
      "metadata": {
        "id": "PkKjW-HMSC6G"
      },
      "source": [
        "### Exercise: Add code to measure out the two remaining qubits. Do the results match what you expect?\n",
        "\n",
        "Run the code below to see if the final state between Alice and Clare is actually a $\\ket{\\Phi}^+$ Bell pair."
      ]
    },
    {
      "cell_type": "code",
      "execution_count": null,
      "id": "93adb9a3",
      "metadata": {
        "id": "93adb9a3"
      },
      "outputs": [],
      "source": [
        "# check equal ignore global phase via statevector method\n",
        "\n",
        "final_sv = execute(qc, backend=Aer.get_backend('statevector_simulator')).result().get_statevector()\n",
        "phi_plus_sv = execute(phi_plus_circ, backend=Aer.get_backend('statevector_simulator')).result().get_statevector()\n",
        "alice_clare_sv = partial_trace(final_sv, [1, 2]).to_statevector()\n",
        "\n",
        "if alice_clare_sv.equiv(phi_plus_sv):\n",
        "    print('Congratulations! You made the entanglement swapping works!')\n",
        "else:\n",
        "    print('You probably made something wrong!')\n",
        "\n",
        "display(alice_clare_sv.draw(output='latex'))\n",
        "display(plot_histogram({k: np.abs(v) ** 2 for k, v in alice_clare_sv.to_dict().items()}, title='Alice distribution', color='midnightblue'))"
      ]
    },
    {
      "cell_type": "markdown",
      "id": "LOaWHNUTHYel",
      "metadata": {
        "id": "LOaWHNUTHYel"
      },
      "source": [
        "# Purification (Error Detection)\n"
      ]
    },
    {
      "cell_type": "markdown",
      "id": "0fb10a53",
      "metadata": {
        "id": "0fb10a53"
      },
      "source": [
        "---\n",
        "Purification is a form of error detection. \n",
        "\n",
        "Due to the imperfection in the process of geneting an entangled pair (Bell pair) and the noise from the environment which can affect and change the state of our Bell pair. The more imperfection in our generation process and the longer we keep the Bell pair in our memories, the less sure we are about the actual Bell pair states.\n",
        "\n",
        "To increase our confidence that the Bell pair is still in the state we are expecting it to be, we can use purification process, which consumes 1 or more Bell pairs in order to find out whether our Bell pair in question is still in the correct state or not. \n",
        "\n",
        "It is an error detection process because, when we perform the purification protocol, it either tells us whether our Bell pair is likely in the correct state or it doesn't. It doesn't tell us about which error (e.g., bit flip, phase flip) happened. "
      ]
    },
    {
      "cell_type": "markdown",
      "id": "v3DOLFZSTB8K",
      "metadata": {
        "id": "v3DOLFZSTB8K"
      },
      "source": [
        "## Adding noise to our Bell pairs\n",
        "\n",
        "As we mentioned earlier, Bell pairs aren't always perfect. We can simulate the idea that 80% of the times our Bell pairs are in the $\\ket{\\Phi_+}$ state and 20% of the times an X error occurs, so it becomes $\\ket{\\Psi_+}$ state.\n",
        "\n",
        "We already provide a custom gate called `noisyCX()` which 20% of the times it automatically adds X gate on the control bit.\n",
        "\n",
        "If we build our Bell pair using this `noisyCX()` we can simulate the effect of noisy (mixed state) Bell pair."
      ]
    },
    {
      "cell_type": "code",
      "execution_count": null,
      "id": "VsQuWRYTHYRl",
      "metadata": {
        "id": "VsQuWRYTHYRl"
      },
      "outputs": [],
      "source": [
        "def sample_faulty_bell_pair():\n",
        "    counts = {}\n",
        "    counts[f'$\\Phi+$'] = 0\n",
        "    counts[f'$\\Psi+$'] = 0\n",
        "\n",
        "    qcs = []\n",
        "    for i in range(1000):\n",
        "        qc = QuantumCircuit(2, 2)\n",
        "        qc.h(0)\n",
        "        qc.noisyCX(0, 1)\n",
        "        qc.measure([0, 1], [0, 1])\n",
        "        qcs.append(qc)\n",
        "    job = execute(qcs, backend=Aer.get_backend('qasm_simulator'), shots=1)\n",
        "\n",
        "    for cnt in job.result().get_counts():\n",
        "        k = list(cnt.keys())[0]\n",
        "        if k == '00' or k == '11':\n",
        "            counts[f'$\\Phi+$'] = counts[f'$\\Phi+$'] + 1\n",
        "        else:\n",
        "            counts[f'$\\Psi+$'] = counts[f'$\\Psi+$'] + 1\n",
        "\n",
        "    return counts\n",
        "counts = sample_faulty_bell_pair()\n",
        "plot_histogram(counts)"
      ]
    },
    {
      "cell_type": "markdown",
      "id": "hXyb2Pbzj1TC",
      "metadata": {
        "id": "hXyb2Pbzj1TC"
      },
      "source": [
        "### Exercise: Create 2 Bell pairs using the NoisyCX\n",
        "\n",
        "Complete the Bell pair creation circuit\n",
        "\n",
        "**NOTE**: this circuit creation function is probabilistic, 20% of the times and X gate is added so try running it multiple times to see if the result changes or not!"
      ]
    },
    {
      "cell_type": "code",
      "execution_count": null,
      "id": "0DDE39B1j6gh",
      "metadata": {
        "id": "0DDE39B1j6gh"
      },
      "outputs": [],
      "source": [
        "bp1 = QuantumRegister(2, 'bell_1')\n",
        "bp2 = QuantumRegister(2, 'bell_2')\n",
        "parity_check_creg = ClassicalRegister(2, 'parity_check')\n",
        "bell_pair_creg = ClassicalRegister(2, 'bellpair_result_creg')\n",
        "\n",
        "\n",
        "def prepare_two_noisy_bellpair():\n",
        "    noisy_2_bp_circ = QuantumCircuit(bp1, bp2, parity_check_creg, bell_pair_creg)\n",
        "    ### Complete the code here to create 2 Bell pairs using NoisyCX\n",
        "    # noisy_2_bp_circ.noisyCX(x, y)\n",
        "\n",
        "\n",
        "\n",
        "\n",
        "    ### END \n",
        "    return noisy_2_bp_circ\n",
        "\n",
        "\n",
        "\n",
        "qc = QuantumCircuit(bp1, bp2, parity_check_creg, bell_pair_creg)\n",
        "qc = qc.compose(prepare_two_noisy_bellpair())\n",
        "qc.measure([*bp1, *bp2], [*bell_pair_creg, *parity_check_creg])\n",
        "qc.draw()"
      ]
    },
    {
      "cell_type": "markdown",
      "id": "rD_Ew5omk7gR",
      "metadata": {
        "id": "rD_Ew5omk7gR"
      },
      "source": [
        "### Exercise: Create Purification Circuit\n",
        "\n",
        "We want to check the parity of the 1st Bell pair, and consume the 2nd Bell pair for parity check.\n",
        "\n",
        "**NOTE: We want to use non-noisy CX for this case**"
      ]
    },
    {
      "cell_type": "code",
      "execution_count": null,
      "id": "vfWNjK4kniMC",
      "metadata": {
        "id": "vfWNjK4kniMC"
      },
      "outputs": [],
      "source": [
        "bp1 = QuantumRegister(2, 'bell_1')\n",
        "bp2 = QuantumRegister(2, 'bell_2')\n",
        "parity_check_creg = ClassicalRegister(2, 'parity_check')\n",
        "bell_pair_creg = ClassicalRegister(2, 'bellpair_result_creg')\n",
        "purification_circ = QuantumCircuit(bp1, bp2, parity_check_creg, bell_pair_creg)\n",
        "\n",
        "# purification_circ\n",
        "\n",
        "\n",
        "## Perform the measurement on 2nd bell pair\n",
        "\n",
        "\n",
        "### END \n",
        "\n",
        "qc = QuantumCircuit(bp1, bp2, parity_check_creg, bell_pair_creg)\n",
        "qc = qc.compose(prepare_two_noisy_bellpair()).compose(purification_circ)\n",
        "qc.measure([*bp1], [*bell_pair_creg])\n",
        "qc.draw()"
      ]
    },
    {
      "cell_type": "markdown",
      "id": "8xDyyWRUnhpE",
      "metadata": {
        "id": "8xDyyWRUnhpE"
      },
      "source": [
        "### Exercise: Complete the code block below to check if purification procedure succeed or fail"
      ]
    },
    {
      "cell_type": "code",
      "execution_count": null,
      "id": "QeOnz9t9pKC8",
      "metadata": {
        "id": "QeOnz9t9pKC8"
      },
      "outputs": [],
      "source": [
        "def is_purification_successful():\n",
        "    qc = QuantumCircuit(bp1, bp2, parity_check_creg, bell_pair_creg)\n",
        "    qc = qc.compose(prepare_two_noisy_bellpair()).compose(purification_circ)\n",
        "    qc.measure([*bp1], [*bell_pair_creg])\n",
        "    \n",
        "    job = execute(qc, backend=Aer.get_backend('qasm_simulator'), shots=1)\n",
        "    cnt = job.result().get_counts()\n",
        "    parity_check_value_str = list(cnt.keys())[0][3:]\n",
        "    ### Complete the code here\n",
        "\n",
        "    ## Make sure that success is assign a Boolean value (True, False)\n",
        "    ## since we already make a meausrment to  use the value inside that!\n",
        "    ## use value inside parity_check_value_str, it'll be in either\n",
        "    ## '00', '01', '10', '11'\n",
        "\n",
        "    success = False\n",
        "\n",
        "    ### END\n",
        "    return success, list(cnt.keys())[0][:2] # return success/failure + bp results\n",
        "\n",
        "### Testing code\n",
        "if type(is_purification_successful()[0]) == bool:\n",
        "    print(f'Your code is probably correct!')\n",
        "else:\n",
        "    print(f'Your code might not be correct!')"
      ]
    },
    {
      "cell_type": "markdown",
      "id": "CfM5UIEyoirg",
      "metadata": {
        "id": "CfM5UIEyoirg"
      },
      "source": [
        "### Exercise: The only thing left to do is test!\n",
        "\n",
        "After adding the measurement to first Bell pair, try running the code below.\n",
        "\n",
        "What it does is it tries to gather 1,000 successful purification runs and gather statistics on the readout of the first Bell pair. Noted that earlier when we didn't perform purification process, the Bell pairs were correct 80% of the time. Now we should see and increase in the fidelity (higher chance of seeing correct state).\n",
        "\n",
        "The output also shows how many runs we actually did to gather the 1,000 purifed Bell pairs. Since purification is a probabilitic process, we see that sometimes it fails and sometimes it succeed."
      ]
    },
    {
      "cell_type": "code",
      "execution_count": null,
      "id": "LnkDXaIRXgU_",
      "metadata": {
        "id": "LnkDXaIRXgU_"
      },
      "outputs": [],
      "source": [
        "purified_bp = 0\n",
        "counts = {}\n",
        "counts[f'$\\Phi+$'] = 0\n",
        "counts[f'$\\Psi+$'] = 0\n",
        "\n",
        "while purified_bp < 1000:\n",
        "    succ, res = is_purification_successful()\n",
        "    if not succ:\n",
        "        continue\n",
        "\n",
        "    purified_bp += 1\n",
        "    k = res    \n",
        "    if k == '00' or k == '11':\n",
        "        counts[f'$\\Phi+$'] = counts[f'$\\Phi+$'] + 1\n",
        "    else:\n",
        "        counts[f'$\\Psi+$'] = counts[f'$\\Psi+$'] + 1\n",
        "\n",
        "plot_histogram(counts)"
      ]
    },
    {
      "cell_type": "markdown",
      "id": "T8X6TtpCBUHw",
      "metadata": {
        "id": "T8X6TtpCBUHw"
      },
      "source": [
        "# Congratulations! You have finally made it to the end!\n",
        "\n",
        "By now you should have grasped the basic concepts of quantum networking to a certain degree! We hope you liked this notebook and if you have any comments or suggestions feel free to tell us in the room or in slack. Any feedback is welcome!\n",
        "\n",
        "Also we hope that you'll be interested in the area of quantum network and consider contributing to the field. We really need more people!"
      ]
    }
  ],
  "metadata": {
    "colab": {
      "collapsed_sections": [],
      "name": "WQRN_hands_on.ipynb",
      "provenance": []
    },
    "kernelspec": {
      "display_name": "Python 3.11.0 64-bit",
      "language": "python",
      "name": "python3"
    },
    "language_info": {
      "codemirror_mode": {
        "name": "ipython",
        "version": 3
      },
      "file_extension": ".py",
      "mimetype": "text/x-python",
      "name": "python",
      "nbconvert_exporter": "python",
      "pygments_lexer": "ipython3",
      "version": "3.11.0"
    },
    "latex_envs": {
      "LaTeX_envs_menu_present": true,
      "autoclose": true,
      "autocomplete": true,
      "bibliofile": "biblio.bib",
      "cite_by": "apalike",
      "current_citInitial": 1,
      "eqLabelWithNumbers": true,
      "eqNumInitial": 1,
      "hotkeys": {
        "equation": "Ctrl-E",
        "itemize": "Ctrl-I"
      },
      "labels_anchors": false,
      "latex_user_defs": false,
      "report_style_numbering": false,
      "user_envs_cfg": false
    },
    "toc": {
      "base_numbering": 1,
      "nav_menu": {},
      "number_sections": true,
      "sideBar": true,
      "skip_h1_title": false,
      "title_cell": "Table of Contents",
      "title_sidebar": "Contents",
      "toc_cell": false,
      "toc_position": {},
      "toc_section_display": true,
      "toc_window_display": false
    },
    "vscode": {
      "interpreter": {
        "hash": "1a1af0ee75eeea9e2e1ee996c87e7a2b11a0bebd85af04bb136d915cefc0abce"
      }
    }
  },
  "nbformat": 4,
  "nbformat_minor": 5
}
